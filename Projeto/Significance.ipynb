{
 "cells": [
  {
   "cell_type": "code",
   "execution_count": null,
   "metadata": {},
   "outputs": [],
   "source": [
    "import pandas as pd\n",
    "import numpy as np\n",
    "import matplotlib.pyplot as plt\n",
    "import scipy\n",
    "import seaborn as sns"
   ]
  },
  {
   "cell_type": "code",
   "execution_count": null,
   "metadata": {},
   "outputs": [],
   "source": [
    "df = pd.read_csv('dataframe.csv')\n",
    "N_df = pd.read_csv('Output_ZPrimeBoostedAnalysis/data.csv', delimiter=\" \")\n",
    "print(N_df.columns)"
   ]
  },
  {
   "cell_type": "code",
   "execution_count": null,
   "metadata": {},
   "outputs": [],
   "source": [
    "S_df = df.loc[df['label'] == 1]\n",
    "B_df = df.loc[df['ID'] == 'ttbar_bkg']\n",
    "\n",
    "B_df"
   ]
  },
  {
   "cell_type": "code",
   "execution_count": null,
   "metadata": {},
   "outputs": [],
   "source": [
    "ttbar = pd.read_csv(\"Output_ZPrimeBoostedAnalysis/ttbar_lep.csv\", delimiter=\" \")\n",
    "ttbar"
   ]
  },
  {
   "cell_type": "code",
   "execution_count": null,
   "metadata": {},
   "outputs": [],
   "source": [
    "plt.hist(B_df['ttbarMLR'], bins=20, histtype='step', label='ttbar', weights=B_df['scaleweight'], range=(400, 1600))\n",
    "plt.hist(S_df['ttbarMLR'], bins=20, histtype='step', label='signal', weights=S_df['scaleweight'], range=(400, 1600)) \n",
    "counts, bins = np.histogram(N_df['ttbarMLR'], bins=20, range=(400, 1600))\n",
    "plt.plot(bins[:-1]+30, counts, 'o', label='Data', color='black')\n",
    "plt.xlabel('ttbarMLR [GeV]')\n",
    "plt.ylabel('Events')\n",
    "plt.ylim(0, 2000)\n",
    "plt.legend()\n",
    "plt.show()\n",
    "\n",
    "print(counts)"
   ]
  },
  {
   "cell_type": "code",
   "execution_count": null,
   "metadata": {},
   "outputs": [],
   "source": [
    "sns.set_theme(style=\"whitegrid\", palette=\"pastel\", gr)\n",
    "sns.histplot(data=B_df, x='ttbarMLR', bins=20, weights=B_df['scaleweight'], binrange=(400, 1600), label=\"Background\")\n",
    "sns.histplot(data=N_df, x='ttbarMLR', bins=20, binrange=(400, 1600), label=\"Data\")\n",
    "sns.histplot(data=S_df, x='ttbarMLR', bins=20, weights=S_df['scaleweight'], binrange=(400, 1600), label=\"Signal\")\n",
    "plt.xlabel('ttbarMLR [GeV]')\n",
    "plt.ylabel('Events')\n",
    "plt.legend()\n",
    "plt.show()\n",
    "\n"
   ]
  },
  {
   "cell_type": "code",
   "execution_count": null,
   "metadata": {},
   "outputs": [],
   "source": [
    "S, _ = np.histogram(S_df['ttbarMLR'], bins=20, range=(400, 1600), weights=S_df['scaleweight'])\n",
    "B, _ = np.histogram(B_df['ttbarMLR'], bins=20, range=(400, 1600), weights=B_df['scaleweight'])\n",
    "N, _ = np.histogram(N_df['ttbarMLR'], bins=20, range=(400, 1600))"
   ]
  },
  {
   "cell_type": "code",
   "execution_count": null,
   "metadata": {},
   "outputs": [],
   "source": [
    "def likelihood(N_, S_, B_, mu_):\n",
    "    return np.prod(scipy.stats.poisson.pmf(N_, mu_ * S_ + B_))\n",
    "\n",
    "def log_likelihood(mu_array_):\n",
    "    result = np.log([likelihood(N, S, B, mu_) for mu_ in mu_array_])\n",
    "    return np.asarray(result)\n",
    "\n",
    "mu = np.linspace(-5, 5, 7000)\n",
    "log_likelihood_value = log_likelihood(mu)\n",
    "\n",
    "plt.plot(mu, log_likelihood_value)\n",
    "plt.xlabel(rf'$\\mu$')\n",
    "plt.ylabel(rf'$\\log L(\\mu)$')\n",
    "plt.title(rf'$\\log L(\\mu)$')\n",
    "plt.show()"
   ]
  },
  {
   "cell_type": "code",
   "execution_count": null,
   "metadata": {},
   "outputs": [],
   "source": [
    "# Your answer\n",
    "mu_hat_index = np.argmax(log_likelihood_value)  # Find the index of the maximum value of the log likelihood\n",
    "mu_hat = mu[mu_hat_index]                       # Find the value of mu corresponding to the maximum value of the log likelihood\n",
    "\n",
    "print(f\"The best-fit value of μ is: {mu_hat:.4f}\")\n",
    "\n",
    "plt.plot(mu, log_likelihood_value)\n",
    "plt.xlabel(rf'$\\mu$')\n",
    "plt.ylabel(rf'$\\log L(\\mu)$')\n",
    "plt.title(rf'$\\log L(\\mu)$')\n",
    "plt.axvline(x=mu_hat, color='r', linestyle='--', label=rf'$\\hat \\mu$ = {mu_hat:.4f}')\n",
    "plt.legend()"
   ]
  },
  {
   "cell_type": "code",
   "execution_count": null,
   "metadata": {},
   "outputs": [],
   "source": []
  }
 ],
 "metadata": {
  "kernelspec": {
   "display_name": "root-env",
   "language": "python",
   "name": "python3"
  },
  "language_info": {
   "codemirror_mode": {
    "name": "ipython",
    "version": 3
   },
   "file_extension": ".py",
   "mimetype": "text/x-python",
   "name": "python",
   "nbconvert_exporter": "python",
   "pygments_lexer": "ipython3",
   "version": "3.11.9"
  }
 },
 "nbformat": 4,
 "nbformat_minor": 2
}
