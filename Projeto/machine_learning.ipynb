{
 "cells": [
  {
   "cell_type": "code",
   "execution_count": null,
   "metadata": {},
   "outputs": [],
   "source": [
    "import pandas as pd \n",
    "import numpy as np\n",
    "import matplotlib.pyplot as plt\n",
    "import seaborn as sns\n",
    "from sklearn.model_selection import train_test_split\n",
    "from sklearn.preprocessing import StandardScaler\n",
    "import tensorflow as tf\n",
    "from tensorflow import keras\n",
    "import scipy\n",
    "from sklearn.metrics import roc_curve, roc_auc_score\n",
    "from keras.callbacks import EarlyStopping\n",
    "from keras.models import Sequential\n",
    "from keras.layers import Dense\n",
    "from keras import Input\n",
    "from tensorflow.keras.optimizers import Adam, AdamW\n",
    "tf.random.set_seed(2)\n",
    "\n",
    "import pyhf"
   ]
  },
  {
   "cell_type": "code",
   "execution_count": null,
   "metadata": {},
   "outputs": [],
   "source": [
    "dataframe = pd.read_csv('dataframe.csv')"
   ]
  },
  {
   "cell_type": "code",
   "execution_count": null,
   "metadata": {},
   "outputs": [],
   "source": [
    "dataframe['train_weight'] = 1.\n",
    "dataframe.loc[dataframe.query('label==1').index,'train_weight'] = (dataframe.loc[dataframe.query('label==1').index,'scaleweight']) / dataframe.loc[dataframe.query('label==1').index,'scaleweight'].sum()\n",
    "dataframe.loc[dataframe.query('label==0').index,'train_weight'] = dataframe.loc[dataframe.query('label==0').index,'scaleweight'] / dataframe.loc[dataframe.query('label==0').index,'scaleweight'].sum()\n",
    "\n",
    "sum_w_sig = dataframe.query('label==0')['train_weight'].sum()\n",
    "sum_w_bkg = dataframe.query('label==1')['train_weight'].sum()\n",
    "print(f'Sum of weights for training Signal {sum_w_sig:.3} and Background {sum_w_bkg:.3}')"
   ]
  },
  {
   "cell_type": "code",
   "execution_count": null,
   "metadata": {},
   "outputs": [],
   "source": [
    "train_features = ['etmiss', 'mtw', 'leadleptPt', 'leadleptEta',\n",
    "       'leadleptE', 'leadleptPhi', 'Q_leadlep', 'leadleptID', 'n_TopLRjets',\n",
    "       'leadTopLRjet_pt', 'leadTopLRjet_eta', 'leadTopLRjet_phi',\n",
    "       'leadTopLRjet_m', 'leadTopLRjet_Tau32', 'n_jets', 'leadjet_pt',\n",
    "       'leadjet_eta', 'n_bjets', 'leadbjet_pt', 'leadbjet_eta', 'ttbarMLR']\n",
    "\n",
    "weights = [\"scaleweight\", \"train_weight\"]"
   ]
  },
  {
   "cell_type": "code",
   "execution_count": null,
   "metadata": {},
   "outputs": [],
   "source": [
    "\n",
    "x_train, x_val, y_train, y_val, w_train_full, w_val_full = train_test_split(dataframe[train_features].values, dataframe['label'].values, dataframe[weights].values, train_size = 1/3, random_state = 9)\n",
    "x_val, x_test, y_val, y_test, w_val_full, w_test_full = train_test_split(x_val, y_val, w_val_full, test_size=1/2, random_state = 9)\n",
    "\n",
    "\n",
    "scaler = StandardScaler()\n",
    "scaler.fit(x_train)\n",
    "\n",
    "x_train = scaler.transform(x_train)\n",
    "x_val = scaler.transform(x_val)\n",
    "x_test = scaler.transform(x_test)\n"
   ]
  },
  {
   "cell_type": "code",
   "execution_count": null,
   "metadata": {},
   "outputs": [],
   "source": [
    "def weight_separation(w):\n",
    "    scaleweights = w[:, 0]\n",
    "    train = w[:, 1]\n",
    "    return scaleweights, train\n",
    "\n",
    "w_train_scale, w_train = weight_separation(w_train_full)\n",
    "w_val_scale, w_val = weight_separation(w_val_full)\n",
    "w_test_scale, w_test = weight_separation(w_test_full)\n",
    "\n",
    "print(w_train.shape)"
   ]
  },
  {
   "cell_type": "code",
   "execution_count": null,
   "metadata": {},
   "outputs": [],
   "source": [
    "# your answer\n",
    "model = Sequential([Input(shape=(x_train.shape[1],))])\n",
    "\n",
    "# Input and Hidden layers\n",
    "\n",
    "model.add(Dense(80, activation='relu'))\n",
    "model.add(Dense(90, activation='relu'))\n",
    "model.add(Dense(90, activation='relu'))\n",
    "model.add(Dense(80, activation='relu'))\n",
    "model.add(Dense(75, activation='relu'))\n",
    "\n",
    "\n",
    "\n",
    "# Output layer\n",
    "model.add(Dense(1, activation='sigmoid'))\n",
    "\n",
    "model.compile(loss='binary_crossentropy', optimizer=Adam(learning_rate=1e-4), weighted_metrics=['accuracy'])\n",
    "model.summary()"
   ]
  },
  {
   "cell_type": "code",
   "execution_count": null,
   "metadata": {},
   "outputs": [],
   "source": [
    "history = model.fit(x_train, y_train, sample_weight=w_train, validation_data=(x_val, y_val, w_val), epochs=200, batch_size=1024, callbacks=[EarlyStopping(patience=3)])"
   ]
  },
  {
   "cell_type": "code",
   "execution_count": null,
   "metadata": {},
   "outputs": [],
   "source": [
    "plt.plot(history.history['loss'], label='train')\n",
    "plt.plot(history.history['val_loss'], label='validation')\n",
    "plt.title('Model loss')\n",
    "plt.xlabel('Epoch')\n",
    "plt.ylabel('Loss')\n",
    "plt.legend()\n",
    "plt.show()\n",
    "\n",
    "plt.plot(history.history['accuracy'], label='train')\n",
    "plt.plot(history.history['val_accuracy'], label='validation')\n",
    "plt.title('Model accuracy')\n",
    "plt.xlabel('Epoch')\n",
    "plt.ylabel('Accuracy')\n",
    "plt.legend()\n",
    "plt.show()"
   ]
  },
  {
   "cell_type": "code",
   "execution_count": null,
   "metadata": {},
   "outputs": [],
   "source": [
    "y_train_pred = model.predict(x_train)\n",
    "y_val_pred = model.predict(x_val)\n",
    "y_test_pred = model.predict(x_test)"
   ]
  },
  {
   "cell_type": "code",
   "execution_count": null,
   "metadata": {},
   "outputs": [],
   "source": [
    "bin = plt.hist(y_test_pred[y_test==1], bins=100, density=True, histtype='step', color='blue', label='sig train')\n",
    "plt.hist(y_test_pred[y_test==1], bins=bin[1], density=True, histtype='step', color='red', label='sig val')\n",
    "\n",
    "plt.xlabel('NN output')\n",
    "plt.ylabel('Density')\n",
    "plt.legend()"
   ]
  },
  {
   "cell_type": "code",
   "execution_count": null,
   "metadata": {},
   "outputs": [],
   "source": [
    "# your answer\n",
    "bins = plt.hist(y_train_pred[y_train==1], bins=100, density=True, histtype='step', color='blue', label='sig train')\n",
    "plt.hist(y_val_pred[y_val==1], bins=bins[1], density=True, histtype='step', color='red', label='sig val')\n",
    "bins = plt.hist(y_train_pred[y_train==0], bins=bins[1], density=True, histtype='step', color='green', label='bkg train')\n",
    "plt.hist(y_val_pred[y_val==0], bins=bins[1], density=True, histtype='step', color='orange', label='bkg val')\n",
    "\n",
    "plt.xlabel('NN output')\n",
    "plt.legend()\n",
    "plt.show()\n"
   ]
  },
  {
   "cell_type": "code",
   "execution_count": null,
   "metadata": {},
   "outputs": [],
   "source": [
    "# RPC curve\n",
    "fpr, tpr, thresholds = roc_curve(y_val, y_val_pred)\n",
    "auc = roc_auc_score(y_val, y_val_pred)\n",
    "plt.plot(fpr, tpr, label=f'AUC = {auc:.4f}')\n",
    "plt.plot([0, 1], [0, 1], linestyle='--', color='black')\n",
    "plt.title('ROC curve')\n",
    "plt.xlabel('False positive rate')\n",
    "plt.ylabel('True positive rate')\n",
    "plt.legend()\n",
    "plt.show()"
   ]
  },
  {
   "cell_type": "code",
   "execution_count": null,
   "metadata": {},
   "outputs": [],
   "source": [
    "print(y_train_pred[:, 0].shape)\n",
    "print(w_train_scale[:].shape)"
   ]
  },
  {
   "cell_type": "code",
   "execution_count": null,
   "metadata": {},
   "outputs": [],
   "source": [
    "# join the y predictions and scaleweights into a dataframe with two columns\n",
    "def join_y_w(y, w):\n",
    "    df = pd.DataFrame({'y_pred': y, 'scaleweights': w})\n",
    "    return df\n",
    "\n",
    "df_train = join_y_w(y_train_pred[:, 0], w_train_scale[:])\n",
    "df_val = join_y_w(y_val_pred[:, 0], w_val_scale[:])\n",
    "df_test = join_y_w(y_test_pred[:, 0], w_test_scale[:]*3)"
   ]
  },
  {
   "cell_type": "code",
   "execution_count": null,
   "metadata": {},
   "outputs": [],
   "source": [
    "df_test"
   ]
  },
  {
   "cell_type": "code",
   "execution_count": null,
   "metadata": {},
   "outputs": [],
   "source": [
    "y_test.shape"
   ]
  },
  {
   "cell_type": "code",
   "execution_count": null,
   "metadata": {},
   "outputs": [],
   "source": [
    "data = pd.read_csv('Output_ZPrimeBoostedAnalysis/data.csv', delimiter= \" \")\n",
    "data"
   ]
  },
  {
   "cell_type": "code",
   "execution_count": null,
   "metadata": {},
   "outputs": [],
   "source": [
    "x_data = scaler.transform(data[train_features].values)\n",
    "w_data = data[\"weight\"].values"
   ]
  },
  {
   "cell_type": "code",
   "execution_count": null,
   "metadata": {},
   "outputs": [],
   "source": [
    "y_data_pred = model.predict(x_data)"
   ]
  },
  {
   "cell_type": "code",
   "execution_count": null,
   "metadata": {},
   "outputs": [],
   "source": [
    "df_data = join_y_w(y_data_pred[:, 0], w_data[:])"
   ]
  },
  {
   "cell_type": "code",
   "execution_count": null,
   "metadata": {},
   "outputs": [],
   "source": [
    "bins = plt.hist(df_data['y_pred'], bins=30, histtype='step', color='blue', label='data', weights=df_data['scaleweights'])\n",
    "plt.hist(df_test['y_pred'], bins=bins[1], histtype='step', color='red', label='test', weights=df_test['scaleweights'])\n",
    "plt.xlabel('NN output')\n",
    "plt.ylabel('Events')\n",
    "plt.legend()"
   ]
  },
  {
   "cell_type": "code",
   "execution_count": null,
   "metadata": {},
   "outputs": [],
   "source": [
    "N, bins = np.histogram(df_data['y_pred'], bins=50, weights=df_data['scaleweights'])\n",
    "\n",
    "B = np.histogram(df_test['y_pred'][y_test==0], bins=bins, weights=df_test['scaleweights'][y_test==0])[0]\n",
    "S = np.histogram(df_test['y_pred'][y_test==1], bins=bins, weights=df_test['scaleweights'][y_test==1])[0]\n"
   ]
  },
  {
   "cell_type": "code",
   "execution_count": null,
   "metadata": {},
   "outputs": [],
   "source": [
    "# Plot N, S, B\n",
    "plt.hist(bins[:-1], bins, weights=N, histtype='step', color='blue', label='data')\n",
    "plt.hist(bins[:-1], bins, weights=B, histtype='step', color='green', label='bkg')\n",
    "plt.hist(bins[:-1], bins, weights=S, histtype='step', color='red', label='sig')\n",
    "plt.xlabel('NN output')\n",
    "plt.ylabel('Events')\n",
    "plt.legend()\n",
    "plt.show()"
   ]
  },
  {
   "cell_type": "code",
   "execution_count": null,
   "metadata": {},
   "outputs": [],
   "source": [
    "model_spec = {'channels': [{'name': 'singlechannel',\n",
    "              'samples': [\n",
    "              {'name': 'signal','data': S.tolist(),\n",
    "               'modifiers': [{'data': None, 'name': 'mu', 'type': 'normfactor'}]},\n",
    "              {'name': 'bkg1','data': B.tolist(),\n",
    "               'modifiers': []},\n",
    "              ]\n",
    "              }],\n",
    "              \"observations\": [{ \"name\": \"singlechannel\", \"data\": N.tolist() }],\n",
    "              \"measurements\": [{ \"name\": \"Measurement\", \"config\": {\"poi\": \"mu\", \"parameters\": []}}],\n",
    "              \"version\": \"1.0.0\",\n",
    "}\n",
    "\n",
    "workspace = pyhf.Workspace(model_spec)\n",
    "model = workspace.model()\n",
    "\n",
    "print(\"## Model\")\n",
    "print(f\"  channels: {model.config.channels}\")\n",
    "print(f\"     nbins: {model.config.channel_nbins}\")\n",
    "print(f\"   samples: {model.config.samples}\")\n",
    "print(f\" modifiers: {model.config.modifiers}\")\n",
    "print(f\"parameters: {model.config.parameters}\")\n",
    "print(f\"par. order: {model.config.par_order}\")\n",
    "\n",
    "print(\"\\n## Model parameters\")\n",
    "print(f'   default: {model.config.suggested_init()}')\n",
    "print(f'    bounds: {model.config.suggested_bounds()}')\n",
    "\n",
    "data = N.tolist() + model.config.auxdata\n",
    "\n",
    "test_stat = \"qtilde\"\n",
    "test_poi = 1.\n",
    "\n",
    "# Vary mu values\n",
    "poi_values = np.linspace(0.01, 5, 500)\n",
    "obs_limit, exp_limits = pyhf.infer.intervals.upper_limits.upper_limit(data, model, poi_values, level=0.05)\n",
    "print(f\"\\nObserved μ upper limit (obs): {obs_limit:.3f}, Expected μ upper limit {exp_limits[2]:.3f}\")"
   ]
  },
  {
   "cell_type": "code",
   "execution_count": null,
   "metadata": {},
   "outputs": [],
   "source": [
    "data = N.tolist() + model.config.auxdata\n",
    "\n",
    "test_stat = \"qtilde\"\n",
    "test_poi = 1.\n",
    "\n",
    "# Vary mu values\n",
    "poi_values = np.linspace(0.01, 5, 500)\n",
    "obs_limit, exp_limits = pyhf.infer.intervals.upper_limits.upper_limit(data, model, poi_values, level=0.05)\n",
    "print(f\"\\nObserved μ upper limit (obs): {obs_limit:.3f}, Expected μ upper limit {exp_limits[2]:.3f}\")"
   ]
  },
  {
   "cell_type": "code",
   "execution_count": null,
   "metadata": {},
   "outputs": [],
   "source": [
    "binning = np.arange(20, 240, 10)\n",
    "upper_lim =[]\n",
    "for bin in binning:\n",
    "    N, bins = np.histogram(df_data['y_pred'], bins=bin, weights=df_data['scaleweights'])\n",
    "\n",
    "    B = np.histogram(df_test['y_pred'][y_test==0], bins=bins, weights=df_test['scaleweights'][y_test==0])[0]\n",
    "    S = np.histogram(df_test['y_pred'][y_test==1], bins=bins, weights=df_test['scaleweights'][y_test==1])[0]\n",
    "\n",
    "    model_spec = {'channels': [{'name': 'singlechannel',\n",
    "                'samples': [\n",
    "                {'name': 'signal','data': S.tolist(),\n",
    "                'modifiers': [{'data': None, 'name': 'mu', 'type': 'normfactor'}]},\n",
    "                {'name': 'bkg1','data': B.tolist(),\n",
    "                'modifiers': []},\n",
    "                ]\n",
    "                }],\n",
    "                \"observations\": [{ \"name\": \"singlechannel\", \"data\": N.tolist() }],\n",
    "                \"measurements\": [{ \"name\": \"Measurement\", \"config\": {\"poi\": \"mu\", \"parameters\": []}}],\n",
    "                \"version\": \"1.0.0\",\n",
    "    }\n",
    "\n",
    "    workspace = pyhf.Workspace(model_spec)\n",
    "    model = workspace.model()\n",
    "\n",
    "    data = N.tolist() + model.config.auxdata\n",
    "\n",
    "    test_stat = \"qtilde\"\n",
    "    test_poi = 1.\n",
    "\n",
    "    # Vary mu values\n",
    "    poi_values = np.linspace(0.01, 5, 500)\n",
    "    obs_limit, exp_limits = pyhf.infer.intervals.upper_limits.upper_limit(data, model, poi_values, level=0.05)\n",
    "    print(f\"\\nBinning: {bin}, Observed μ upper limit (obs): {obs_limit:.3f}, Expected μ upper limit {exp_limits[2]:.3f}\")\n",
    "    upper_lim.append(obs_limit)"
   ]
  },
  {
   "cell_type": "code",
   "execution_count": null,
   "metadata": {},
   "outputs": [],
   "source": [
    "plt.scatter(binning, upper_lim)"
   ]
  },
  {
   "cell_type": "code",
   "execution_count": null,
   "metadata": {},
   "outputs": [],
   "source": []
  }
 ],
 "metadata": {
  "kernelspec": {
   "display_name": "root-env",
   "language": "python",
   "name": "python3"
  },
  "language_info": {
   "codemirror_mode": {
    "name": "ipython",
    "version": 3
   },
   "file_extension": ".py",
   "mimetype": "text/x-python",
   "name": "python",
   "nbconvert_exporter": "python",
   "pygments_lexer": "ipython3",
   "version": "3.11.9"
  }
 },
 "nbformat": 4,
 "nbformat_minor": 2
}
