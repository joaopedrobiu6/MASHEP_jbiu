{
 "cells": [
  {
   "cell_type": "code",
   "execution_count": null,
   "metadata": {},
   "outputs": [],
   "source": [
    "import pandas as pd\n",
    "import numpy as np\n",
    "import matplotlib.pyplot as plt"
   ]
  },
  {
   "cell_type": "code",
   "execution_count": null,
   "metadata": {},
   "outputs": [],
   "source": [
    "# import data from CSV\n",
    "data = pd.read_csv(\"Output_ZPrimeBoostedAnalysis/data.csv\", delimiter=\" \")\n",
    "ttbar_lep = pd.read_csv(\"Output_ZPrimeBoostedAnalysis/ttbar_lep.csv\", delimiter=\" \")\n",
    "ZPrime1000 = pd.read_csv(\"Output_ZPrimeBoostedAnalysis/ZPrime1000_tt.csv\", delimiter=\" \")\n"
   ]
  },
  {
   "cell_type": "code",
   "execution_count": null,
   "metadata": {},
   "outputs": [],
   "source": [
    "ttbar_lep"
   ]
  },
  {
   "cell_type": "code",
   "execution_count": null,
   "metadata": {},
   "outputs": [],
   "source": [
    "data.columns"
   ]
  },
  {
   "cell_type": "code",
   "execution_count": null,
   "metadata": {},
   "outputs": [],
   "source": [
    "# etmiss = MET\n",
    "# mtw \n",
    "# lep_charge = Q_leadlep (leadleptch)\n",
    "# lep_type = leadleptID\n",
    "# lepton_1_eta = leadleptEta\n",
    "# lepton_1_E = leadleptE\n",
    "# lepton_1_phi = leadleptPhi\n",
    "# lepton_1_pt = leadleptPt\n",
    "# largeRjet_tau32 = leadTopLRjet_Tau32\n",
    "# largeRjet_m = leadTopLRjet_m\n",
    "# largeRjet_phi = leadTopLRjet_phi\n",
    "# largeRjet_eta = leadTopLRjet_eta\n",
    "# largeRjet_pt = leadTopLRjet_pt\n",
    "# TopLRjet_n = n_TopLRjets\n",
    "\n",
    "# MISSING:\n",
    "\"\"\"\n",
    "leadbjet_eta    +\n",
    "leadbjet_pt     +\n",
    "leadjet_eta     +\n",
    "leadjet_pt      +\n",
    "\n",
    "leadLRjet_eta   \n",
    "leadLRjet_m     \n",
    "leadLRjet_phi   \n",
    "leadLRjet_pt    \n",
    "leadLRjet_tau32 \n",
    "\n",
    "n_bjets         + \n",
    "n_jets          +\n",
    "n_leadLRjets    \n",
    "ttbarMLR\n",
    "\"\"\""
   ]
  },
  {
   "cell_type": "code",
   "execution_count": null,
   "metadata": {},
   "outputs": [],
   "source": [
    "ranges_bins = {\"etmiss\": [0, 400, 30], \"leadbjet_eta\": [-3, 3, 30], \"leadbjet_pt\": [0, 400, 20], \n",
    "                \"leadjet_eta\": [-3, 3, 30], \"leadjet_pt\": [0, 400, 20], \n",
    "                \"Q_leadlep\": [-1.5, 1.5, 7], \"leadleptE\": [0, 500, 30], \"leadleptEta\": [-3, 3, 30], \n",
    "                \"leadleptID\": [6, 20, 15], \"leadleptPhi\":[-3.2, 3.2, 32], \"leadleptPt\": [0, 400, 20], \n",
    "                \"largeRjet_eta_total\": [-3, 3, 20], \"largeRjet_m_total\": [50, 250, 30], \"largeRjet_phi_total\": [-3.2, 3.2, 12],\n",
    "                \"largeRjet_pt_total\": [250, 700, 30], \"largeRjet_tau32_total\": [0, 1, 20], \"leadTopLRjet_eta\": [-3, 3, 20],\n",
    "                \"leadTopLRjet_m\": [100, 250, 25], \"leadTopLRjet_phi\": [-3.2, 3.2, 12], \n",
    "                \"leadTopLRjet_pt\": [250, 700, 30],\n",
    "                \"leadTopLRjet_Tau32\": [0, 1, 20], \"mtw\": [0, 250, 30], \"n_bjets\": [-0.5, 3.5, 4], \n",
    "                \"n_jets\": [-0.5, 3.5, 4], \"n_TopLRjets\": [-0.5, 3.5, 4],\n",
    "                \"ttbarMLR\": [400, 1600, 20]}\n",
    "# \"leadTopLRjet_syst_pt\": [250, 700, 30], \n",
    "# \"n_leadLRjets\": [-0.5, 3.5, 4],"
   ]
  },
  {
   "cell_type": "code",
   "execution_count": null,
   "metadata": {},
   "outputs": [],
   "source": [
    "# plot histograms\n",
    "# for key in ranges_bins:\n",
    "    # data.plot.hist(y=key, bins=np.linspace(ranges_bins[key][0], ranges_bins[key][1], ranges_bins[key][2]+1), histtype=\"step\", linewidth=2)\n",
    "    # ttbar_lep.plot.hist(y=key, bins=np.linspace(ranges_bins[key][0], ranges_bins[key][1], ranges_bins[key][2]), histtype=\"step\", linewidth=2)\n",
    "    # ZPrime1000.plot.hist(y=key, bins=np.linspace(ranges_bins[key][0], ranges_bins[key][1], ranges_bins[key][2]), histtype=\"step\", linewidth=2)\n",
    "    # plt.show()"
   ]
  },
  {
   "cell_type": "code",
   "execution_count": null,
   "metadata": {},
   "outputs": [],
   "source": [
    "plot_features = [\"etmiss\", \"mtw\", \"Q_leadlep\", \"leadleptID\", \"leadleptEta\", \"leadleptE\", \"leadleptPhi\", \"leadleptPt\",\n",
    "                 \"leadTopLRjet_Tau32\",\"leadTopLRjet_m\", \"leadTopLRjet_phi\", \"leadTopLRjet_eta\", \"leadTopLRjet_pt\", \"n_TopLRjets\", \"n_bjets\", \"n_jets\", \"ttbarMLR\"]\n",
    "\n",
    "# multiply all columns by the weights\n",
    "\n",
    "print(data[\"weight\"])\n",
    "print(ttbar_lep[\"weight\"])\n",
    "\n",
    "plt.hist(ttbar_lep[\"etmiss\"], bins=30, histtype=\"step\", linewidth=2, weights=ttbar_lep[\"weight\"], range=(0, 400), label=\"ttbar_lep\")\n",
    "plt.hist(data[\"etmiss\"], bins=30, histtype=\"step\", linewidth=2, weights=data[\"weight\"], range=(0, 400), label=\"data\")\n",
    "plt.legend()\n",
    "plt.show()\n",
    "\n"
   ]
  },
  {
   "cell_type": "code",
   "execution_count": null,
   "metadata": {},
   "outputs": [],
   "source": [
    "plt.hist(data[\"etmiss\"], bins=30, histtype=\"step\", linewidth=2, range=(0, 400), label=\"data\")\n",
    "plt.hist(ttbar_lep[\"etmiss\"], bins=30, histtype=\"step\", linewidth=2, range=(0, 400), label=\"ttbar_lep\", weights=ttbar_lep[\"weight\"]*0.0924183)\n",
    "\n",
    "# plt.hist(ttbar_lep[\"etmiss\"], bins=30, histtype=\"step\", linewidth=2, range=(0, 400), label=\"ttbar_s_w\")\n",
    "plt.legend()\n",
    "plt.show()\n",
    "\n"
   ]
  },
  {
   "cell_type": "code",
   "execution_count": null,
   "metadata": {},
   "outputs": [],
   "source": [
    "plt.hist(ttbar_lep[\"weight\"]*0.0924183, bins=30, histtype=\"step\", linewidth=2)"
   ]
  }
 ],
 "metadata": {
  "kernelspec": {
   "display_name": "root-env",
   "language": "python",
   "name": "python3"
  },
  "language_info": {
   "codemirror_mode": {
    "name": "ipython",
    "version": 3
   },
   "file_extension": ".py",
   "mimetype": "text/x-python",
   "name": "python",
   "nbconvert_exporter": "python",
   "pygments_lexer": "ipython3",
   "version": "3.11.9"
  }
 },
 "nbformat": 4,
 "nbformat_minor": 2
}
