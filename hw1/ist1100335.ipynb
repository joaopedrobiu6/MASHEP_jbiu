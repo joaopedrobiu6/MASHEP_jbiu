{
 "cells": [
  {
   "cell_type": "code",
   "execution_count": null,
   "metadata": {
    "ExecuteTime": {
     "end_time": "2024-05-21T10:41:51.413438Z",
     "start_time": "2024-05-21T10:41:51.070272Z"
    },
    "id": "twegDvmq96UR"
   },
   "outputs": [],
   "source": [
    "# Made by João Biu ist1100335\n",
    "import scipy\n",
    "import matplotlib.pyplot as plt\n",
    "import numpy as np\n",
    "import math"
   ]
  },
  {
   "cell_type": "markdown",
   "metadata": {
    "id": "Nyf2AOnx_V21"
   },
   "source": [
    "# Poisson probability with the `scipy` library\n",
    "\n",
    "The following lines of code show the `scipy` implementation on how to compute the Poisson probability $P(x=k|\\lambda)$ of observing $x=k$ events when $\\lambda$ are expected:\n",
    "\n",
    "$$\n",
    "P(x=k|\\lambda)=\\frac{\\lambda^k e^{-\\lambda}}{k!}\n",
    "$$"
   ]
  },
  {
   "cell_type": "code",
   "execution_count": null,
   "metadata": {
    "ExecuteTime": {
     "end_time": "2024-05-21T10:41:57.996791Z",
     "start_time": "2024-05-21T10:41:57.511030Z"
    },
    "colab": {
     "base_uri": "https://localhost:8080/"
    },
    "id": "awIpboce_vwh",
    "outputId": "5de16704-a2aa-4315-bbe7-38832ad8ce04"
   },
   "outputs": [],
   "source": [
    "k = 5\n",
    "_lambda = 4\n",
    "scipy.stats.poisson.pmf(k,_lambda)"
   ]
  },
  {
   "cell_type": "code",
   "execution_count": null,
   "metadata": {
    "ExecuteTime": {
     "end_time": "2024-05-21T10:41:59.632008Z",
     "start_time": "2024-05-21T10:41:59.505427Z"
    },
    "colab": {
     "base_uri": "https://localhost:8080/",
     "height": 450
    },
    "id": "HRgbzhc2w27b",
    "outputId": "5315e819-7b2c-4acb-990b-a4e06c499dda"
   },
   "outputs": [],
   "source": [
    "k=np.arange(0,21,1)\n",
    "\n",
    "for _lambda in [2,4,10]:\n",
    "  poisson_prob = scipy.stats.poisson.pmf(k,_lambda)\n",
    "  plt.plot(k,poisson_prob,'o',label=rf'$\\lambda$={_lambda}')\n",
    "\n",
    "plt.xlabel(r'$k$')\n",
    "plt.ylabel(r'$P(x=k|\\lambda)$')\n",
    "plt.legend()\n",
    "plt.show()"
   ]
  },
  {
   "cell_type": "markdown",
   "metadata": {
    "id": "1ivJ34S6agMy"
   },
   "source": [
    "# Preamble\n",
    "\n",
    "Consider a HEP experiment measuring an observable distributed in a 3-bin histogram.\n",
    "\n",
    "Monte-Carlo methods were used to simulate this observable for signal and background processes and theory was used to predict the total number of events expected for both, yielding:\n",
    "\n",
    "*   Expected signal: $S_i=\\{34,67,42\\}$\n",
    "*   Expected background: $B_i=\\{404,376,198\\}$\n",
    "\n",
    "The real data measurement was:\n",
    "\n",
    "*   Real data measurement: $N_i=\\{489,541,302\\}$"
   ]
  },
  {
   "cell_type": "markdown",
   "metadata": {
    "id": "Qcnclxb-LyFH"
   },
   "source": [
    "# Exercise 1: Likelihood model\n",
    "\n",
    "Consider the likelihood model for the statistical analysis of the experiment above, consisting of:\n",
    "\n",
    "- A three-bin distribution of the observations\n",
    "- Two expected samples: a **signal sample** and a **background sample**\n",
    "- A normalization scaling factor $\\mu$, the **signal strength**, for the signal sample.\n",
    "\n",
    "The only parameter of interest in this likelihood model is $\\mu$ and there are no additional nuisance parameters."
   ]
  },
  {
   "cell_type": "markdown",
   "metadata": {
    "id": "vtLcWNMeYNq2"
   },
   "source": [
    "## 1a) Likelihood function\n",
    "\n",
    "Define a python function based on `scipy` to compute the likelihood model described above.\n"
   ]
  },
  {
   "cell_type": "code",
   "execution_count": null,
   "metadata": {
    "id": "8n0yHW8CvTX5"
   },
   "outputs": [],
   "source": [
    "# your answer\n",
    "\n",
    "def likelihood(N_, S_, B_, mu_):\n",
    "    return np.prod(scipy.stats.poisson.pmf(N_, mu_ * S_ + B_))"
   ]
  },
  {
   "cell_type": "markdown",
   "metadata": {
    "id": "vIIY2r6NtxiN"
   },
   "source": [
    "## 1b) Likelihood value for the observations\n",
    "Use the function defined in line 1a) to calculate the likelihood for the observations described in the preamble, given the theoretical expectations for the signal and the background also described there (i.e. assuming that the normalisation of the simulation is correct).\n"
   ]
  },
  {
   "cell_type": "code",
   "execution_count": null,
   "metadata": {
    "id": "udchkd-PZfLD"
   },
   "outputs": [],
   "source": [
    "# your answer\n",
    "\n",
    "# Real Data Measurement, Expected Background and Expected Signal\n",
    "N = np.array([489, 541, 302])\n",
    "B = np.array([404, 376, 198])\n",
    "S = np.array([34, 67, 42])\n",
    "mu = 1                              # assuming that the normalisation of the simulation is correct\n",
    "\n",
    "# Apply the function \n",
    "likelihood_value = likelihood(N, S, B, mu)\n",
    "print(f\"Likelihood: {likelihood_value}\")"
   ]
  },
  {
   "cell_type": "markdown",
   "metadata": {
    "id": "dEX5RkoQZjAy"
   },
   "source": [
    "# Exercise 2: Best-fit signal strength $\\hat{\\mu}$\n",
    "\n",
    "Consider the experiment and results described in the preamble."
   ]
  },
  {
   "cell_type": "markdown",
   "metadata": {
    "id": "5jG0XbXdaRJg"
   },
   "source": [
    "## 2a) $\\hat{\\mu}>1$  or  $\\hat{\\mu}<1$ ?\n",
    "\n",
    "Qualitatively, do you expect the best-fit value $\\hat{\\mu}$ to be larger or smaller than 1? Justify your answer."
   ]
  },
  {
   "cell_type": "markdown",
   "metadata": {
    "id": "i1X-QhJIcCSG"
   },
   "source": [
    "**Your answer:**  Since the sum of the signal S with the background B is less than the measured values, it means that more events were observed than the expected by the model. Therefore, the best-fit value of $\\hat{\\mu}$ is expected to be larger than 1. "
   ]
  },
  {
   "cell_type": "markdown",
   "metadata": {
    "id": "kDTZiYC53asI"
   },
   "source": [
    "## 2b) Log-likelihood as a function of $\\mu$\n",
    "Draw the log-likelihood as a function of the parameter $\\mu$.\n"
   ]
  },
  {
   "cell_type": "code",
   "execution_count": null,
   "metadata": {
    "id": "Oe6G8mwV3jqy"
   },
   "outputs": [],
   "source": [
    "#Your answer\n",
    "def log_likelihood(mu_array_):\n",
    "    result = np.log([likelihood(N, S, B, mu_) for mu_ in mu_array_])\n",
    "    return np.asarray(result)\n",
    "\n",
    "mu = np.linspace(0, 5.5, 7000)\n",
    "log_likelihood_value = log_likelihood(mu)\n",
    "\n",
    "plt.plot(mu, log_likelihood_value)\n",
    "plt.xlabel(rf'$\\mu$')\n",
    "plt.ylabel(rf'$\\log L(\\mu)$')\n",
    "plt.title(rf'$\\log L(\\mu)$')\n",
    "plt.show()"
   ]
  },
  {
   "cell_type": "markdown",
   "metadata": {
    "id": "fM4KmOQncJVt"
   },
   "source": [
    "## 2c) Best-fit signal strength $\\hat{\\mu}$\n",
    "\n",
    "Find the approximate best-fit value of $\\hat{\\mu}$."
   ]
  },
  {
   "cell_type": "code",
   "execution_count": null,
   "metadata": {
    "id": "2sl7E-65cBAH"
   },
   "outputs": [],
   "source": [
    "# Your answer\n",
    "mu_hat_index = np.argmax(log_likelihood_value)  # Find the index of the maximum value of the log likelihood\n",
    "mu_hat = mu[mu_hat_index]                       # Find the value of mu corresponding to the maximum value of the log likelihood\n",
    "\n",
    "print(f\"The best-fit value of μ is: {mu_hat:.4f}\")\n",
    "\n",
    "plt.plot(mu, log_likelihood_value)\n",
    "plt.xlabel(rf'$\\mu$')\n",
    "plt.ylabel(rf'$\\log L(\\mu)$')\n",
    "plt.title(rf'$\\log L(\\mu)$')\n",
    "plt.axvline(x=mu_hat, color='r', linestyle='--', label=rf'$\\hat \\mu$ = {mu_hat:.4f}')\n",
    "plt.legend()"
   ]
  },
  {
   "cell_type": "markdown",
   "metadata": {
    "id": "F_M9U_veyGIW"
   },
   "source": [
    "## 2d) Uncertainty on $\\hat{\\mu}$\n",
    "\n",
    "Find the approximate value for the uncertainty on $\\hat{\\mu}$."
   ]
  },
  {
   "cell_type": "markdown",
   "metadata": {},
   "source": [
    "##### Answer:\n",
    "Using: $\\log\\Bigl(L(\\hat \\mu)\\Bigr) - \\log\\Bigl(L(\\mu)\\Bigr) = \\frac{1}{2}$,\n",
    "\n",
    "corresponding to “one-sigma” uncertainty."
   ]
  },
  {
   "cell_type": "code",
   "execution_count": null,
   "metadata": {
    "id": "I7oYtAJ-3v4S"
   },
   "outputs": [],
   "source": [
    "def uncertainty(log_likelihood_value, mu_hat_index, factor, tolerance):\n",
    "    logL_mu = log_likelihood_value[mu_hat_index] - factor\n",
    "    index = np.where(np.abs(log_likelihood_value - logL_mu) <= tolerance)[0]\n",
    "    uncertainty = np.abs(-(mu[mu_hat_index] - mu[index]))\n",
    "    return uncertainty\n",
    "\n",
    "# Calculate the uncertainty for 1 sigma, using a tolerance of 0.0015\n",
    "uncertainty_1sigma = uncertainty(log_likelihood_value, mu_hat_index, 0.5, 0.0015)\n",
    "print(f\"Uncertainty for 1 sigma (lower and upper uncertainty): {uncertainty_1sigma}\")\n",
    "print(f\"The uncertainty interval for the best value of μ is: [{mu_hat - uncertainty_1sigma[0]:.4f}, {mu_hat + uncertainty_1sigma[1]:.4f}]\")\n",
    "\n",
    "# Choosing the largest value of the uncertainty\n",
    "uncertainty_1sigma = np.max(uncertainty_1sigma)\n",
    "print(f\"Uncertainty for 1 sigma (largest): {uncertainty_1sigma:.4f}\")"
   ]
  },
  {
   "cell_type": "markdown",
   "metadata": {
    "id": "Fx6Cfayf5TLS"
   },
   "source": [
    "# Exercise 3: Significance calculation\n",
    "\n",
    "Assuming the expression for a counting experiment, calculate the expected and observed signal significance taking into account the total number of signal, background or observed events (as needed)."
   ]
  },
  {
   "cell_type": "markdown",
   "metadata": {
    "id": "6uIAMnyT5cY-"
   },
   "source": [
    "## 3a) Expected significance\n"
   ]
  },
  {
   "cell_type": "code",
   "execution_count": null,
   "metadata": {
    "id": "sRt0DIYB5h8T"
   },
   "outputs": [],
   "source": [
    "#Your answer\n",
    "# compute the significance\n",
    "def significance(S_, B_):\n",
    "    return S_ /np.sqrt(B_)\n",
    "\n",
    "S_sum = np.sum(S)\n",
    "B_sum = np.sum(B)\n",
    "\n",
    "# compute the expected significance\n",
    "expected_ss = significance(S_sum, B_sum+S_sum)\n",
    "print(f\"Expected Significance: {expected_ss:.4f}\")"
   ]
  },
  {
   "cell_type": "markdown",
   "metadata": {
    "id": "biQZKgbO5kLy"
   },
   "source": [
    "## 3b) Observed significance"
   ]
  },
  {
   "cell_type": "code",
   "execution_count": null,
   "metadata": {
    "id": "lzV5AVom5myC"
   },
   "outputs": [],
   "source": [
    "#Your answer\n",
    "# compute the observed significance\n",
    "N_sum = np.sum(N)\n",
    "observed_ss = significance(mu_hat*S_sum, N_sum)\n",
    "print(f\"Observed Significance: {observed_ss:.4f}\")"
   ]
  }
 ],
 "metadata": {
  "colab": {
   "provenance": [
    {
     "file_id": "1UrIq8Gb7CVYS-QOG7xfqIIohVN2CDBJ6",
     "timestamp": 1714209662151
    }
   ],
   "toc_visible": true
  },
  "kernelspec": {
   "display_name": "Python 3 (ipykernel)",
   "language": "python",
   "name": "python3"
  },
  "language_info": {
   "codemirror_mode": {
    "name": "ipython",
    "version": 3
   },
   "file_extension": ".py",
   "mimetype": "text/x-python",
   "name": "python",
   "nbconvert_exporter": "python",
   "pygments_lexer": "ipython3",
   "version": "3.12.2"
  }
 },
 "nbformat": 4,
 "nbformat_minor": 0
}
