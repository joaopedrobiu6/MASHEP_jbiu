{
 "cells": [
  {
   "cell_type": "code",
   "execution_count": null,
   "metadata": {},
   "outputs": [],
   "source": [
    "import pandas as pd\n",
    "import numpy as np\n",
    "import matplotlib.pyplot as plt\n",
    "import os"
   ]
  },
  {
   "cell_type": "code",
   "execution_count": null,
   "metadata": {},
   "outputs": [],
   "source": [
    "OUT_DIR = \"./Histograms_of_Variables/\"\n",
    "os.makedirs(OUT_DIR, exist_ok=True)"
   ]
  },
  {
   "cell_type": "code",
   "execution_count": null,
   "metadata": {},
   "outputs": [],
   "source": [
    "# import data from CSV\n",
    "dataframe = pd.read_csv(\"dataframe.csv\", delimiter=\",\")\n",
    "data=pd.read_csv(\"Output_ZPrimeBoostedAnalysis/data.csv\",delimiter=\" \")\n",
    "\n",
    "data"
   ]
  },
  {
   "cell_type": "code",
   "execution_count": null,
   "metadata": {},
   "outputs": [],
   "source": [
    "signal_data = dataframe.loc[dataframe[\"ID\"] == \"signal\"]\n",
    "ttbar_bkg=dataframe.loc[dataframe[\"ID\"] == \"ttbar_bkg\"]\n",
    "lepton_bkg=dataframe.loc[dataframe[\"ID\"] == \"lepton_bkg\"]\n",
    "V_jets_bkg=dataframe.loc[dataframe[\"ID\"] == \"V_jets_bkg\"]\n",
    "single_top_bkg=dataframe.loc[dataframe[\"ID\"] == \"single_top_bkg\"]\n",
    "bkg=dataframe.loc[dataframe[\"label\"] == 0]"
   ]
  },
  {
   "cell_type": "code",
   "execution_count": null,
   "metadata": {},
   "outputs": [],
   "source": [
    "ranges_bins = {\"etmiss\": [0, 400, 30], \"leadbjet_eta\": [-3, 3, 30], \"leadbjet_pt\": [0, 400, 20], \n",
    "                \"leadjet_eta\": [-3, 3, 30], \"leadjet_pt\": [0, 400, 20], \n",
    "                \"Q_leadlep\": [-1.5, 1.5, 7], \"leadleptE\": [0, 500, 30], \"leadleptEta\": [-3, 3, 30], \n",
    "                \"leadleptID\": [6, 20, 15], \"leadleptPhi\":[-3.2, 3.2, 32], \"leadleptPt\": [0, 400, 20], \n",
    "                \"largeRjet_eta_total\": [-3, 3, 20], \"largeRjet_m_total\": [50, 250, 30], \"largeRjet_phi_total\": [-3.2, 3.2, 12],\n",
    "                \"largeRjet_pt_total\": [250, 700, 30], \"largeRjet_tau32_total\": [0, 1, 20], \"leadTopLRjet_eta\": [-3, 3, 20],\n",
    "                \"leadTopLRjet_m\": [100, 250, 25], \"leadTopLRjet_phi\": [-3.2, 3.2, 12], \n",
    "                \"leadTopLRjet_pt\": [250, 700, 30],\n",
    "                \"leadTopLRjet_Tau32\": [0, 1, 20], \"mtw\": [0, 250, 30], \"n_bjets\": [-0.5, 3.5, 4], \n",
    "                \"n_jets\": [-0.5, 3.5, 4], \"n_TopLRjets\": [-0.5, 3.5, 4],\n",
    "                \"ttbarMLR\": [400, 1600, 20]}\n",
    "# \"leadTopLRjet_syst_pt\": [250, 700, 30], \n",
    "# \"n_leadLRjets\": [-0.5, 3.5, 4],"
   ]
  },
  {
   "cell_type": "code",
   "execution_count": null,
   "metadata": {},
   "outputs": [],
   "source": [
    "plot_features = ['etmiss', 'mtw', 'leadleptPt', 'leadleptEta',\n",
    "       'leadleptE', 'leadleptPhi', 'Q_leadlep', 'n_TopLRjets', \"leadleptID\",\n",
    "       'leadTopLRjet_pt', 'leadTopLRjet_eta', 'leadTopLRjet_phi',\n",
    "       'leadTopLRjet_m', 'leadTopLRjet_Tau32', 'n_jets', 'leadjet_pt',\n",
    "       'leadjet_eta', 'n_bjets', 'leadbjet_pt', 'leadbjet_eta', 'ttbarMLR']\n",
    "\n",
    "x_label = {'etmiss': \"[GeV]\", 'mtw': \"[GeV]\", 'leadleptPt': \"[GeV]\", 'leadleptEta': \"\", 'leadleptID': \"\",\n",
    "       'leadleptE': \"[GeV]\", 'leadleptPhi': \"\", 'Q_leadlep': \"\", 'n_TopLRjets': \"\",\n",
    "       'leadTopLRjet_pt': \"[GeV]\", 'leadTopLRjet_eta': \"\", 'leadTopLRjet_phi':\"\",\n",
    "       'leadTopLRjet_m': \"[GeV]\", 'leadTopLRjet_Tau32': \"[GeV]\", 'n_jets': \"\", 'leadjet_pt': \"[GeV]\",\n",
    "       'leadjet_eta': \"\", 'n_bjets': \"\", 'leadbjet_pt': \"[GeV]\", 'leadbjet_eta': \"\", 'ttbarMLR': \"[GeV]\"}\n",
    "\n",
    "# multiply all columns by the weights\n",
    "for i in plot_features:\n",
    "    \n",
    "    data_to_plot = np.histogram(data[i], bins=ranges_bins[i][2], range=(ranges_bins[i][0], ranges_bins[i][1]))\n",
    "    interval = (ranges_bins[i][1] - ranges_bins[i][0])/(2*ranges_bins[i][2])\n",
    "\n",
    "    bins = plt.hist(lepton_bkg[i], bins=ranges_bins[i][2], histtype=\"step\", linewidth=1, \n",
    "                    weights=lepton_bkg[\"scaleweight\"], range=(ranges_bins[i][0], ranges_bins[i][1]), label=\"lepton_bkg\")\n",
    "    \n",
    "    bins_vjets = plt.hist(V_jets_bkg[i], bins=bins[1], histtype=\"step\", linewidth=1, \n",
    "                          weights=V_jets_bkg[\"scaleweight\"], range=(ranges_bins[i][0], ranges_bins[i][1]), label=\"v_jets_bkg\", bottom = bins[0])\n",
    "    \n",
    "    bins_singtop = plt.hist(single_top_bkg[i], bins=bins[1], histtype=\"step\", linewidth=1, \n",
    "                            weights=single_top_bkg[\"scaleweight\"], range=(ranges_bins[i][0], ranges_bins[i][1]), label=\"single_top_bkg\", bottom = bins[0] + bins_vjets[0])\n",
    "    \n",
    "    plt.hist(ttbar_bkg[i], bins=bins[1], histtype=\"step\", linewidth=1, weights=ttbar_bkg[\"scaleweight\"], \n",
    "             range=(ranges_bins[i][0], ranges_bins[i][1]), label=\"ttbar_bkg\", bottom = bins[0] + bins_vjets[0] + bins_singtop[0])\n",
    "    \n",
    "    bins_sig = plt.hist(signal_data[i], bins=bins[1], histtype=\"bar\", linewidth=1, \n",
    "                        weights=signal_data[\"scaleweight\"], range=(ranges_bins[i][0], ranges_bins[i][1]), label=\"signal\", bottom = bins[0])\n",
    "    \n",
    "    plt.scatter(data_to_plot[1][:-1] + interval, data_to_plot[0], label=\"data\", marker=\"d\", color=\"black\")\n",
    "\n",
    "    plt.xlabel(f\"{i} {x_label[i]}\")\n",
    "    plt.ylabel(\"Events\")\n",
    "    plt.legend()\n",
    "    title=\"MC simulation sig+bkg vs. data (\"+i+\")\"\n",
    "    plt.title(title)\n",
    "    plt.savefig(OUT_DIR + \"plot_\"+i+\".png\")\n",
    "    plt.show()"
   ]
  }
 ],
 "metadata": {
  "kernelspec": {
   "display_name": "Python 3",
   "language": "python",
   "name": "python3"
  },
  "language_info": {
   "codemirror_mode": {
    "name": "ipython",
    "version": 3
   },
   "file_extension": ".py",
   "mimetype": "text/x-python",
   "name": "python",
   "nbconvert_exporter": "python",
   "pygments_lexer": "ipython3",
   "version": "3.11.9"
  }
 },
 "nbformat": 4,
 "nbformat_minor": 2
}
