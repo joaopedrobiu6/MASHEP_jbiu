{
 "cells": [
  {
   "cell_type": "code",
   "execution_count": null,
   "metadata": {},
   "outputs": [],
   "source": [
    "import pandas as pd\n",
    "import pyhf \n",
    "import numpy as np\n",
    "import matplotlib.pyplot as plt"
   ]
  },
  {
   "cell_type": "code",
   "execution_count": null,
   "metadata": {},
   "outputs": [],
   "source": [
    "MC = pd.read_csv('dataframe.csv')\n",
    "data = pd.read_csv('Output_ZPrimeBoostedAnalysis/data.csv', delimiter=' ')"
   ]
  },
  {
   "cell_type": "code",
   "execution_count": null,
   "metadata": {},
   "outputs": [],
   "source": [
    "sig = MC.loc[MC['label'] == 1]\n",
    "bkg = MC.loc[MC['label'] == 0]\n",
    "sig"
   ]
  },
  {
   "cell_type": "code",
   "execution_count": null,
   "metadata": {},
   "outputs": [],
   "source": [
    "N, bins = np.histogram(data['etmiss'], bins=50, range=(0, 300), weights=data[\"weight\"])\n",
    "B = np.histogram(bkg['etmiss'], bins=bins, weights=bkg['scaleweight'])[0]\n",
    "S = np.histogram(sig['etmiss'], bins=bins, weights=sig['scaleweight'])[0]\n",
    "\n",
    "bin = plt.hist(data['etmiss'], bins=50, weights=data[\"weight\"], range=(0, 300), histtype='step', color='black', label='Data')\n",
    "plt.hist(bkg['etmiss'], bins=bin[1], weights=bkg['scaleweight'], histtype='step', color='blue', label='Bkg')\n",
    "plt.hist(sig['etmiss'], bins=bin[1], weights=sig['scaleweight'], histtype='step', color='red', label='Signal')\n",
    "plt.legend()\n",
    "plt.show()\n"
   ]
  },
  {
   "cell_type": "code",
   "execution_count": null,
   "metadata": {},
   "outputs": [],
   "source": [
    "model_spec = {'channels': [{'name': 'singlechannel',\n",
    "              'samples': [\n",
    "              {'name': 'signal','data': S.tolist(),\n",
    "               'modifiers': [{'data': None, 'name': 'mu', 'type': 'normfactor'}]},\n",
    "              {'name': 'bkg1','data': B.tolist(),\n",
    "               'modifiers': []},\n",
    "              ]\n",
    "              }],\n",
    "              \"observations\": [{ \"name\": \"singlechannel\", \"data\": N.tolist() }],\n",
    "              \"measurements\": [{ \"name\": \"Measurement\", \"config\": {\"poi\": \"mu\", \"parameters\": []}}],\n",
    "              \"version\": \"1.0.0\",\n",
    "}\n",
    "\n",
    "workspace = pyhf.Workspace(model_spec)\n",
    "model = workspace.model()\n",
    "\n",
    "print(\"## Model\")\n",
    "print(f\"  channels: {model.config.channels}\")\n",
    "print(f\"     nbins: {model.config.channel_nbins}\")\n",
    "print(f\"   samples: {model.config.samples}\")\n",
    "print(f\" modifiers: {model.config.modifiers}\")\n",
    "print(f\"parameters: {model.config.parameters}\")\n",
    "print(f\"par. order: {model.config.par_order}\")\n",
    "\n",
    "print(\"\\n## Model parameters\")\n",
    "print(f'   default: {model.config.suggested_init()}')\n",
    "print(f'    bounds: {model.config.suggested_bounds()}')\n",
    "\n",
    "data = N.tolist() + model.config.auxdata\n",
    "\n",
    "test_stat = \"qtilde\"\n",
    "test_poi = 1.\n",
    "\n",
    "# Vary mu values\n",
    "poi_values = np.linspace(0.01, 5, 500)\n",
    "obs_limit, exp_limits, scan = pyhf.infer.intervals.upper_limits.upper_limit(data, model, poi_values, level=0.05, return_results=True)\n",
    "print(f\"\\nObserved μ upper limit (obs): {obs_limit:.3f}, Expected μ upper limit {exp_limits[2]:.3f}\")\n",
    "\n",
    "CLs_obs, CLs_exp = pyhf.infer.hypotest(test_poi, data, model, test_stat=test_stat, return_expected=True)\n",
    "print(f\"Observed CL_s: {CLs_obs}, Expected CL_s: {CLs_exp} \")"
   ]
  },
  {
   "cell_type": "markdown",
   "metadata": {},
   "source": [
    "### Dúvidas\n",
    "- valores dos mu fazem sentido?\n",
    "- likelihood sem NN\n",
    "- questão da sensibilidade\n",
    "- interpretação\n",
    "- 3 modelos"
   ]
  },
  {
   "cell_type": "markdown",
   "metadata": {},
   "source": []
  }
 ],
 "metadata": {
  "kernelspec": {
   "display_name": "root-env",
   "language": "python",
   "name": "python3"
  },
  "language_info": {
   "codemirror_mode": {
    "name": "ipython",
    "version": 3
   },
   "file_extension": ".py",
   "mimetype": "text/x-python",
   "name": "python",
   "nbconvert_exporter": "python",
   "pygments_lexer": "ipython3",
   "version": "3.11.9"
  }
 },
 "nbformat": 4,
 "nbformat_minor": 2
}
