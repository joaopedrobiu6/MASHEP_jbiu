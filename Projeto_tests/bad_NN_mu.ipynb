{
 "cells": [
  {
   "cell_type": "code",
   "execution_count": null,
   "metadata": {},
   "outputs": [],
   "source": [
    "import pandas as pd \n",
    "import numpy as np\n",
    "import matplotlib.pyplot as plt\n",
    "from sklearn.model_selection import train_test_split\n",
    "from sklearn.preprocessing import StandardScaler\n",
    "import tensorflow as tf\n",
    "from sklearn.metrics import roc_curve, roc_auc_score\n",
    "from keras.callbacks import EarlyStopping\n",
    "from keras.models import Sequential\n",
    "from keras.layers import Dense, Dropout\n",
    "from keras import Input\n",
    "from tensorflow.keras.optimizers import Adam, AdamW\n",
    "tf.random.set_seed(2)\n",
    "\n",
    "import pyhf"
   ]
  },
  {
   "cell_type": "markdown",
   "metadata": {},
   "source": [
    "## Import the dataframe with the MC events\n",
    "\n",
    "Background events have the label 0 and signal events have the label 1."
   ]
  },
  {
   "cell_type": "code",
   "execution_count": null,
   "metadata": {},
   "outputs": [],
   "source": [
    "dataframe = pd.read_csv('dataframe.csv')"
   ]
  },
  {
   "cell_type": "markdown",
   "metadata": {},
   "source": [
    "### Define train weights such that the sum of the weights for signal and background events is the same - the ratio of signal to background events is 1:1."
   ]
  },
  {
   "cell_type": "code",
   "execution_count": null,
   "metadata": {},
   "outputs": [],
   "source": [
    "dataframe['train_weight'] = 1.\n",
    "dataframe.loc[dataframe.query('label==1').index,'train_weight'] = (dataframe.loc[dataframe.query('label==1').index,'scaleweight']) / dataframe.loc[dataframe.query('label==1').index,'scaleweight'].sum()\n",
    "dataframe.loc[dataframe.query('label==0').index,'train_weight'] = dataframe.loc[dataframe.query('label==0').index,'scaleweight'] / dataframe.loc[dataframe.query('label==0').index,'scaleweight'].sum()\n",
    "\n",
    "sum_w_sig = dataframe.query('label==0')['train_weight'].sum()\n",
    "sum_w_bkg = dataframe.query('label==1')['train_weight'].sum()\n",
    "print(f'Sum of weights for training Signal {sum_w_sig:.3} and Background {sum_w_bkg:.3}')"
   ]
  },
  {
   "cell_type": "code",
   "execution_count": null,
   "metadata": {},
   "outputs": [],
   "source": [
    "train_features = ['etmiss', 'mtw', 'leadleptPt', 'leadleptEta',\n",
    "       'leadleptE', 'leadleptPhi', 'Q_leadlep', 'leadleptID', 'n_TopLRjets',\n",
    "       'leadTopLRjet_pt', 'leadTopLRjet_eta', 'leadTopLRjet_phi',\n",
    "       'leadTopLRjet_m', 'leadTopLRjet_Tau32', 'n_jets', 'leadjet_pt',\n",
    "       'leadjet_eta', 'n_bjets', 'leadbjet_pt', 'leadbjet_eta', 'ttbarMLR']\n",
    "\n",
    "weights = [\"scaleweight\", \"train_weight\", \"label\"]"
   ]
  },
  {
   "cell_type": "markdown",
   "metadata": {},
   "source": [
    "### Define the train, validation and test datasets."
   ]
  },
  {
   "cell_type": "code",
   "execution_count": null,
   "metadata": {},
   "outputs": [],
   "source": [
    "x_train, x_val, y_train, y_val, w_train_full, w_val_full = train_test_split(dataframe[train_features].values, dataframe['label'].values, dataframe[weights].values, train_size = 1/3, random_state = 9)\n",
    "x_val, x_test, y_val, y_test, w_val_full, w_test_full = train_test_split(x_val, y_val, w_val_full, test_size=1/2, random_state = 9)\n",
    "\n",
    "\n",
    "scaler1 = StandardScaler()\n",
    "scaler1.fit(x_train)\n",
    "\n",
    "x_train_1 = scaler1.transform(x_train)\n",
    "y_train_1 = y_train\n",
    "x_val_1 = scaler1.transform(x_val)\n",
    "y_val_1 = y_val\n",
    "x_test_1 = scaler1.transform(x_test)\n",
    "y_test_1 = y_test\n",
    "\n",
    "scaler2 = StandardScaler()\n",
    "scaler2.fit(x_test)\n",
    "\n",
    "x_train_2 = scaler2.transform(x_test)\n",
    "y_train_2 = y_test\n",
    "x_val_2 = scaler2.transform(x_train)\n",
    "y_val_2 = y_train\n",
    "x_test_2 = scaler2.transform(x_val)\n",
    "y_test_2 = y_val\n",
    "\n",
    "scaler3 = StandardScaler()\n",
    "scaler3.fit(x_val)\n",
    "\n",
    "x_train_3 = scaler3.transform(x_val)\n",
    "y_train_3 = y_val\n",
    "x_val_3 = scaler3.transform(x_test)\n",
    "y_val_3 = y_test\n",
    "x_test_3 = scaler3.transform(x_train)\n",
    "y_test_3 = y_train\n"
   ]
  },
  {
   "cell_type": "code",
   "execution_count": null,
   "metadata": {},
   "outputs": [],
   "source": [
    "def weight_separation(w):\n",
    "    scaleweights = w[:, 0]\n",
    "    train = w[:, 1]\n",
    "    label = w[:, 2]\n",
    "    return scaleweights, train, label\n",
    "\n",
    "w_train_scale, w_train, label_train = weight_separation(w_train_full)\n",
    "w_val_scale, w_val, label_val = weight_separation(w_val_full)\n",
    "w_test_scale, w_test, label_test = weight_separation(w_test_full)"
   ]
  },
  {
   "cell_type": "markdown",
   "metadata": {},
   "source": [
    "# Neural Network\n",
    "\n",
    "We define 3 models with the same architecture and hyperparameters. \n",
    "Model 1:\n",
    "- Training set: x_train, y_train\n",
    "- Validation set: x_val, y_val\n",
    "- Test set: x_test, y_test\n",
    "\n",
    "Model 2:\n",
    "- Training set: x_test, y_test\n",
    "- Validation set: x_train, y_train\n",
    "- Test set: x_val, y_val\n",
    "\n",
    "Model 3:\n",
    "- Training set: x_val, y_val\n",
    "- Validation set: x_test, y_test\n",
    "- Test set: x_train, y_train\n",
    "\n",
    "Finally to compare the models we calculate the ROC AUC score for each model on the test set.\n",
    "Later we use the predicted values of the test set used in each model to calculate the upper limits for the mu."
   ]
  },
  {
   "cell_type": "markdown",
   "metadata": {},
   "source": [
    "### MODEL 1\n",
    "- Training set: x_train, y_train\n",
    "- Validation set: x_val, y_val\n",
    "- Test set: x_test, y_test"
   ]
  },
  {
   "cell_type": "code",
   "execution_count": null,
   "metadata": {},
   "outputs": [],
   "source": [
    "model1 = Sequential([Input(shape=(x_train.shape[1],))])\n",
    "\n",
    "# Input and Hidden layers\n",
    "model1.add(Dense(75, activation='softsign'))\n",
    "model1.add(Dropout(0.1))\n",
    "model1.add(Dense(125, activation='softsign'))\n",
    "model1.add(Dense(125, activation='relu'))\n",
    "model1.add(Dense(75, activation='relu'))\n",
    "\n",
    "# Output layer\n",
    "model1.add(Dense(1, activation='sigmoid'))\n",
    "\n",
    "model1.compile(loss='binary_crossentropy', optimizer=AdamW(learning_rate=1e-3, weight_decay=1e-1), weighted_metrics=['accuracy'])\n",
    "model1.summary()"
   ]
  },
  {
   "cell_type": "markdown",
   "metadata": {},
   "source": [
    "### MODEL 2:\n",
    "- Training set: x_test, y_test\n",
    "- Validation set: x_train, y_train\n",
    "- Test set: x_val, y_val"
   ]
  },
  {
   "cell_type": "code",
   "execution_count": null,
   "metadata": {},
   "outputs": [],
   "source": [
    "model2 = Sequential([Input(shape=(x_train.shape[1],))])\n",
    "\n",
    "# Input and Hidden layers\n",
    "model2.add(Dense(75, activation='softsign'))\n",
    "model2.add(Dropout(0.1))\n",
    "model2.add(Dense(125, activation='softsign'))\n",
    "model2.add(Dense(125, activation='relu'))\n",
    "model2.add(Dense(75, activation='relu'))\n",
    "\n",
    "# Output layer\n",
    "model2.add(Dense(1, activation='sigmoid'))\n",
    "\n",
    "model2.compile(loss='binary_crossentropy', optimizer=AdamW(learning_rate=1e-3, weight_decay=1e-1), weighted_metrics=['accuracy'])\n",
    "model2.summary()"
   ]
  },
  {
   "cell_type": "markdown",
   "metadata": {},
   "source": [
    "### Model 3:\n",
    "- Training set: x_val, y_val\n",
    "- Validation set: x_test, y_test\n",
    "- Test set: x_train, y_train"
   ]
  },
  {
   "cell_type": "code",
   "execution_count": null,
   "metadata": {},
   "outputs": [],
   "source": [
    "model3 = Sequential([Input(shape=(x_train.shape[1],))])\n",
    "\n",
    "# Input and Hidden layers\n",
    "model3.add(Dense(75, activation='softsign'))\n",
    "model3.add(Dropout(0.1))\n",
    "model3.add(Dense(125, activation='softsign'))\n",
    "model3.add(Dense(125, activation='relu'))\n",
    "model3.add(Dense(75, activation='relu'))\n",
    "\n",
    "# Output layer\n",
    "model3.add(Dense(1, activation='sigmoid'))\n",
    "\n",
    "model3.compile(loss='binary_crossentropy', optimizer=AdamW(learning_rate=1e-3, weight_decay=1e-1), weighted_metrics=['accuracy'])\n",
    "model3.summary()"
   ]
  },
  {
   "cell_type": "code",
   "execution_count": null,
   "metadata": {},
   "outputs": [],
   "source": [
    "history1 = model1.fit(x_train_1, y_train_1, sample_weight=w_train, validation_data=(x_val_1, y_val_1, w_val), epochs=100, batch_size=1024, callbacks=[EarlyStopping(patience=2)], verbose=0)\n",
    "history2 = model2.fit(x_train_2, y_train_2, sample_weight=w_test, validation_data=(x_val_2, y_val_2, w_train), epochs=100, batch_size=1024, callbacks=[EarlyStopping(patience=2)], verbose=0)\n",
    "history3 = model3.fit(x_train_3, y_train_3, sample_weight=w_val, validation_data=(x_val_3, y_val_3, w_test), epochs=100, batch_size=1024, callbacks=[EarlyStopping(patience=2)], verbose=0)"
   ]
  },
  {
   "cell_type": "code",
   "execution_count": null,
   "metadata": {},
   "outputs": [],
   "source": [
    "fig, ax = plt.subplots(1, 3, figsize=(20, 7))\n",
    "ax[0].plot(history1.history['loss'], label='train')\n",
    "ax[0].plot(history1.history['val_loss'], label='val')\n",
    "ax[0].set_xlabel('Epoch')\n",
    "ax[0].set_ylabel('Loss')\n",
    "ax[0].set_title(\"Model 1\")\n",
    "ax[0].legend()\n",
    "ax[1].plot(history2.history['loss'], label='train')\n",
    "ax[1].plot(history2.history['val_loss'], label='val')\n",
    "ax[1].set_xlabel('Epoch')\n",
    "ax[1].set_ylabel('Loss')\n",
    "ax[1].set_title(\"Model 2\")\n",
    "ax[1].legend()\n",
    "ax[2].plot(history3.history['loss'], label='mod3 train')\n",
    "ax[2].plot(history3.history['val_loss'], label='mod3 val')\n",
    "ax[2].set_xlabel('Epoch')\n",
    "ax[2].set_ylabel('Loss')\n",
    "ax[2].set_title(\"Model 3\")\n",
    "ax[2].legend()\n",
    "\n",
    "fig.suptitle('Loss', fontsize=20)\n",
    "plt.show()\n",
    "\n",
    "fig, ax = plt.subplots(1, 3, figsize=(20, 7))\n",
    "ax[0].plot(history1.history['accuracy'], label='train')\n",
    "ax[0].plot(history1.history['val_accuracy'], label='validation')\n",
    "ax[0].set_xlabel('Epoch')\n",
    "ax[0].set_ylabel('Accuracy')\n",
    "ax[0].set_title(\"Model 1\")\n",
    "ax[0].legend()\n",
    "ax[1].plot(history2.history['accuracy'], label='train')\n",
    "ax[1].plot(history2.history['val_accuracy'], label='validation')\n",
    "ax[1].set_xlabel('Epoch')\n",
    "ax[1].set_ylabel('Accuracy')\n",
    "ax[1].set_title(\"Model 2\")\n",
    "ax[1].legend()\n",
    "ax[2].plot(history3.history['accuracy'], label='train')\n",
    "ax[2].plot(history3.history['val_accuracy'], label='validation')\n",
    "ax[2].set_xlabel('Epoch')\n",
    "ax[2].set_ylabel('Accuracy')\n",
    "ax[2].set_title(\"Model 3\")\n",
    "ax[2].legend()\n",
    "\n",
    "fig.suptitle('Accuracy', fontsize=24)\n",
    "plt.show()"
   ]
  },
  {
   "cell_type": "code",
   "execution_count": null,
   "metadata": {},
   "outputs": [],
   "source": [
    "y_test_pred_1 = model1.predict(x_test_1)\n",
    "y_test_pred_2 = model2.predict(x_test_2)\n",
    "y_test_pred_3 = model3.predict(x_test_3)"
   ]
  },
  {
   "cell_type": "code",
   "execution_count": null,
   "metadata": {},
   "outputs": [],
   "source": [
    "fig, ax = plt.subplots(1, 3, figsize=(20, 7))\n",
    "bin = ax[0].hist(y_test_pred_1[y_test_1==0], bins=100, density=True, histtype='step', color='blue', label='bkg test')\n",
    "ax[0].hist(y_test_pred_1[y_test_1==1], bins=bin[1], density=True, histtype='step', color='red', label='sig test')\n",
    "ax[0].set_title('Model 1')\n",
    "ax[0].set_xlabel('NN output')\n",
    "ax[0].set_ylabel('Density')\n",
    "ax[0].legend()\n",
    "bin = ax[1].hist(y_test_pred_2[y_test_2==0], bins=100, density=True, histtype='step', color='blue', label='bkg test')\n",
    "ax[1].hist(y_test_pred_2[y_test_2==1], bins=bin[1], density=True, histtype='step', color='red', label='sig test')\n",
    "ax[1].set_title('Model 2')\n",
    "ax[1].set_xlabel('NN output')\n",
    "ax[1].set_ylabel('Density')\n",
    "ax[1].legend()\n",
    "bin = ax[2].hist(y_test_pred_3[y_test_3==0], bins=100, density=True, histtype='step', color='blue', label='bkg test')\n",
    "ax[2].hist(y_test_pred_3[y_test_3==1], bins=bin[1], density=True, histtype='step', color='red', label='sig test')\n",
    "ax[2].set_title('Model 3')\n",
    "ax[2].set_xlabel('NN output')\n",
    "ax[2].set_ylabel('Density')\n",
    "ax[2].legend()\n",
    "\n",
    "fig.suptitle('NN output', fontsize=24)\n",
    "plt.show()"
   ]
  },
  {
   "cell_type": "code",
   "execution_count": null,
   "metadata": {},
   "outputs": [],
   "source": [
    "# ROC curve\n",
    "fpr1, tpr1, thresholds1 = roc_curve(y_test_1, y_test_pred_1)\n",
    "fpr2, tpr2, thresholds2 = roc_curve(y_test_2, y_test_pred_2)\n",
    "fpr3, tpr3, thresholds3 = roc_curve(y_test_3, y_test_pred_3)\n",
    "\n",
    "auc1 = roc_auc_score(y_test, y_test_pred_1)\n",
    "auc2 = roc_auc_score(y_val, y_test_pred_2)\n",
    "auc3 = roc_auc_score(y_train, y_test_pred_3)\n",
    "\n",
    "fig, ax = plt.subplots(1, 3, figsize=(21, 6))\n",
    "ax[0].plot(fpr1, tpr1, label=f'AUC = {auc1:.4f}')\n",
    "ax[0].plot([0, 1], [0, 1], linestyle='--', color='black')\n",
    "ax[0].set_title('Model 1')\n",
    "ax[0].set_xlabel('False positive rate')\n",
    "ax[0].set_ylabel('True positive rate')\n",
    "ax[0].legend()\n",
    "ax[1].plot(fpr2, tpr2, label=f'AUC = {auc2:.4f}')\n",
    "ax[1].plot([0, 1], [0, 1], linestyle='--', color='black')\n",
    "ax[1].set_title('Model 2')\n",
    "ax[1].set_xlabel('False positive rate')\n",
    "ax[1].set_ylabel('True positive rate')\n",
    "ax[1].legend()\n",
    "ax[2].plot(fpr3, tpr3, label=f'AUC = {auc3:.4f}')\n",
    "ax[2].plot([0, 1], [0, 1], linestyle='--', color='black')\n",
    "ax[2].set_title('Model 3')\n",
    "ax[2].set_xlabel('False positive rate')\n",
    "ax[2].set_ylabel('True positive rate')\n",
    "ax[2].legend()\n",
    "\n",
    "fig.suptitle('ROC curve', fontsize=24)\n",
    "plt.show()"
   ]
  },
  {
   "cell_type": "code",
   "execution_count": null,
   "metadata": {},
   "outputs": [],
   "source": [
    "# join the y predictions and scaleweights into a dataframe with two columns\n",
    "def join_y_w(y1, w1, label1, y2, w2, label2, y3, w3, label3):\n",
    "    df1 = pd.DataFrame({'y_pred': y1, 'scaleweights': w1, 'label': label1})\n",
    "    df2 = pd.DataFrame({'y_pred': y2, 'scaleweights': w2, 'label': label2})\n",
    "    df3 = pd.DataFrame({'y_pred': y3, 'scaleweights': w3, 'label': label3})\n",
    "    df = pd.concat([df1, df2, df3])\n",
    "    return df\n",
    "\n",
    "df_test = join_y_w(y_test_pred_1[:, 0], w_test_scale, label_test,\n",
    "                   y_test_pred_2[:, 0], w_val_scale, label_val,\n",
    "                   y_test_pred_3[:, 0], w_train_scale, label_train)\n",
    "df_test"
   ]
  },
  {
   "cell_type": "code",
   "execution_count": null,
   "metadata": {},
   "outputs": [],
   "source": [
    "data = pd.read_csv('Output_ZPrimeBoostedAnalysis/data.csv', delimiter= \" \")\n",
    "data"
   ]
  },
  {
   "cell_type": "code",
   "execution_count": null,
   "metadata": {},
   "outputs": [],
   "source": [
    "x_data = scaler1.transform(data[train_features].values)\n",
    "w_data = data[\"weight\"].values"
   ]
  },
  {
   "cell_type": "code",
   "execution_count": null,
   "metadata": {},
   "outputs": [],
   "source": [
    "y_data_pred = model1.predict(x_data)"
   ]
  },
  {
   "cell_type": "code",
   "execution_count": null,
   "metadata": {},
   "outputs": [],
   "source": [
    "def join_y_w(y, w):\n",
    "    df = pd.DataFrame({'y_pred': y, 'scaleweights': w})\n",
    "    return df\n",
    "df_data = join_y_w(y_data_pred[:, 0], w_data[:])"
   ]
  },
  {
   "cell_type": "code",
   "execution_count": null,
   "metadata": {},
   "outputs": [],
   "source": [
    "bins = plt.hist(df_data['y_pred'], bins=30, histtype='step', color='blue', label='data', weights=df_data['scaleweights'])\n",
    "plt.hist(df_test['y_pred'], bins=bins[1], histtype='step', color='red', label='test', weights=df_test['scaleweights'])\n",
    "plt.xlabel('NN output')\n",
    "plt.ylabel('Events')\n",
    "plt.legend()"
   ]
  },
  {
   "cell_type": "code",
   "execution_count": null,
   "metadata": {},
   "outputs": [],
   "source": [
    "N, bins = np.histogram(df_data['y_pred'], bins=50, weights=df_data['scaleweights'])\n",
    "\n",
    "B = np.histogram(df_test['y_pred'][df_test[\"label\"]==0], bins=bins, weights=df_test['scaleweights'][df_test[\"label\"]==0])[0]\n",
    "S = np.histogram(df_test['y_pred'][df_test[\"label\"]==1], bins=bins, weights=df_test['scaleweights'][df_test[\"label\"]==1])[0]\n"
   ]
  },
  {
   "cell_type": "code",
   "execution_count": null,
   "metadata": {},
   "outputs": [],
   "source": [
    "# Plot N, S, B\n",
    "plt.hist(bins[:-1], bins, weights=N, histtype='step', color='blue', label='data')\n",
    "plt.hist(bins[:-1], bins, weights=B, histtype='step', color='green', label='bkg')\n",
    "plt.hist(bins[:-1], bins, weights=S, histtype='step', color='red', label='sig')\n",
    "plt.xlabel('NN output')\n",
    "plt.ylabel('Events')\n",
    "plt.legend()\n",
    "plt.show()"
   ]
  },
  {
   "cell_type": "code",
   "execution_count": null,
   "metadata": {},
   "outputs": [],
   "source": [
    "model_spec = {'channels': [{'name': 'singlechannel',\n",
    "              'samples': [\n",
    "              {'name': 'signal','data': S.tolist(),\n",
    "               'modifiers': [{'data': None, 'name': 'mu', 'type': 'normfactor'}]},\n",
    "              {'name': 'bkg1','data': B.tolist(),\n",
    "               'modifiers': []},\n",
    "              ]\n",
    "              }],\n",
    "              \"observations\": [{ \"name\": \"singlechannel\", \"data\": N.tolist() }],\n",
    "              \"measurements\": [{ \"name\": \"Measurement\", \"config\": {\"poi\": \"mu\", \"parameters\": []}}],\n",
    "              \"version\": \"1.0.0\",\n",
    "}\n",
    "\n",
    "workspace = pyhf.Workspace(model_spec)\n",
    "model = workspace.model()\n",
    "\n",
    "print(\"## Model\")\n",
    "print(f\"  channels: {model.config.channels}\")\n",
    "print(f\"     nbins: {model.config.channel_nbins}\")\n",
    "print(f\"   samples: {model.config.samples}\")\n",
    "print(f\" modifiers: {model.config.modifiers}\")\n",
    "print(f\"parameters: {model.config.parameters}\")\n",
    "print(f\"par. order: {model.config.par_order}\")\n",
    "\n",
    "print(\"\\n## Model parameters\")\n",
    "print(f'   default: {model.config.suggested_init()}')\n",
    "print(f'    bounds: {model.config.suggested_bounds()}')\n",
    "\n",
    "data = N.tolist() + model.config.auxdata\n",
    "\n",
    "test_stat = \"qtilde\"\n",
    "test_poi = 1.\n",
    "\n",
    "# Vary mu values\n",
    "poi_values = np.linspace(0.01, 5, 500)\n",
    "obs_limit, exp_limits = pyhf.infer.intervals.upper_limits.upper_limit(data, model, poi_values, level=0.05)\n",
    "print(f\"\\nObserved μ upper limit (obs): {obs_limit:.3f}, Expected μ upper limit {exp_limits[2]:.3f}\")"
   ]
  }
 ],
 "metadata": {
  "kernelspec": {
   "display_name": "root-env",
   "language": "python",
   "name": "python3"
  },
  "language_info": {
   "codemirror_mode": {
    "name": "ipython",
    "version": 3
   },
   "file_extension": ".py",
   "mimetype": "text/x-python",
   "name": "python",
   "nbconvert_exporter": "python",
   "pygments_lexer": "ipython3",
   "version": "3.11.9"
  }
 },
 "nbformat": 4,
 "nbformat_minor": 2
}
